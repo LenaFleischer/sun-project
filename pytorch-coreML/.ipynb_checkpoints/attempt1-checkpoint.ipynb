{
 "cells": [
  {
   "cell_type": "code",
   "execution_count": 2,
   "id": "d0a4c2de-fa80-492f-80e3-a596d53c09ee",
   "metadata": {},
   "outputs": [],
   "source": [
    "import torch\n",
    "import os \n",
    "from torch.utils.mobile_optimizer import optimize_for_mobile\n",
    "import numpy as np\n",
    "import matplotlib.pyplot as plt"
   ]
  },
  {
   "cell_type": "markdown",
   "id": "8e401610-e7e0-455c-a01a-bb66cf3a7af4",
   "metadata": {},
   "source": [
    "- load in weather data using only valid columns, leaving out the last column (wind chill label)\n",
    "- create a tensor from all data"
   ]
  },
  {
   "cell_type": "code",
   "execution_count": 4,
   "id": "538e3a05-f287-424b-8e03-1b38b85cd29a",
   "metadata": {},
   "outputs": [
    {
     "ename": "FileNotFoundError",
     "evalue": "2022_data.csv not found.",
     "output_type": "error",
     "traceback": [
      "\u001b[0;31m---------------------------------------------------------------------------\u001b[0m",
      "\u001b[0;31mFileNotFoundError\u001b[0m                         Traceback (most recent call last)",
      "Cell \u001b[0;32mIn[4], line 1\u001b[0m\n\u001b[0;32m----> 1\u001b[0m weather_data \u001b[38;5;241m=\u001b[39m \u001b[43mnp\u001b[49m\u001b[38;5;241;43m.\u001b[39;49m\u001b[43mgenfromtxt\u001b[49m\u001b[43m(\u001b[49m\u001b[38;5;124;43m\"\u001b[39;49m\u001b[38;5;124;43m2022_data.csv\u001b[39;49m\u001b[38;5;124;43m\"\u001b[39;49m\u001b[43m,\u001b[49m\u001b[43mdelimiter\u001b[49m\u001b[43m \u001b[49m\u001b[38;5;241;43m=\u001b[39;49m\u001b[43m \u001b[49m\u001b[38;5;124;43m\"\u001b[39;49m\u001b[38;5;124;43m,\u001b[39;49m\u001b[38;5;124;43m\"\u001b[39;49m\u001b[43m,\u001b[49m\u001b[43m \u001b[49m\u001b[43musecols\u001b[49m\u001b[43m \u001b[49m\u001b[38;5;241;43m=\u001b[39;49m\u001b[43m \u001b[49m\u001b[43m(\u001b[49m\u001b[38;5;241;43m0\u001b[39;49m\u001b[43m,\u001b[49m\u001b[38;5;241;43m1\u001b[39;49m\u001b[43m,\u001b[49m\u001b[38;5;241;43m2\u001b[39;49m\u001b[43m,\u001b[49m\u001b[38;5;241;43m3\u001b[39;49m\u001b[43m,\u001b[49m\u001b[38;5;241;43m4\u001b[39;49m\u001b[43m,\u001b[49m\u001b[38;5;241;43m6\u001b[39;49m\u001b[43m,\u001b[49m\u001b[38;5;241;43m8\u001b[39;49m\u001b[43m,\u001b[49m\u001b[38;5;241;43m9\u001b[39;49m\u001b[43m,\u001b[49m\u001b[38;5;241;43m11\u001b[39;49m\u001b[43m,\u001b[49m\u001b[38;5;241;43m12\u001b[39;49m\u001b[43m,\u001b[49m\u001b[38;5;241;43m15\u001b[39;49m\u001b[43m,\u001b[49m\u001b[38;5;241;43m17\u001b[39;49m\u001b[43m,\u001b[49m\u001b[38;5;241;43m18\u001b[39;49m\u001b[43m,\u001b[49m\u001b[38;5;241;43m19\u001b[39;49m\u001b[43m,\u001b[49m\u001b[38;5;241;43m22\u001b[39;49m\u001b[43m)\u001b[49m\u001b[43m,\u001b[49m\u001b[43m \u001b[49m\u001b[43mskip_header\u001b[49m\u001b[43m \u001b[49m\u001b[38;5;241;43m=\u001b[39;49m\u001b[43m \u001b[49m\u001b[38;5;241;43m1\u001b[39;49m\u001b[43m,\u001b[49m\u001b[43m \u001b[49m\u001b[43mfilling_values\u001b[49m\u001b[38;5;241;43m=\u001b[39;49m\u001b[38;5;241;43m0.0\u001b[39;49m\u001b[43m)\u001b[49m[:, :\u001b[38;5;241m-\u001b[39m\u001b[38;5;241m1\u001b[39m]\n\u001b[1;32m      2\u001b[0m weather_tensor \u001b[38;5;241m=\u001b[39m torch\u001b[38;5;241m.\u001b[39mtensor(weather_data)\u001b[38;5;241m.\u001b[39mfloat()\n\u001b[1;32m      3\u001b[0m xdims \u001b[38;5;241m=\u001b[39m weather_tensor\u001b[38;5;241m.\u001b[39mshape[\u001b[38;5;241m1\u001b[39m] \u001b[38;5;241m-\u001b[39m \u001b[38;5;241m1\u001b[39m\n",
      "File \u001b[0;32m~/opt/anaconda3/envs/sunproject/lib/python3.11/site-packages/numpy/lib/npyio.py:1977\u001b[0m, in \u001b[0;36mgenfromtxt\u001b[0;34m(fname, dtype, comments, delimiter, skip_header, skip_footer, converters, missing_values, filling_values, usecols, names, excludelist, deletechars, replace_space, autostrip, case_sensitive, defaultfmt, unpack, usemask, loose, invalid_raise, max_rows, encoding, ndmin, like)\u001b[0m\n\u001b[1;32m   1975\u001b[0m     fname \u001b[38;5;241m=\u001b[39m os_fspath(fname)\n\u001b[1;32m   1976\u001b[0m \u001b[38;5;28;01mif\u001b[39;00m \u001b[38;5;28misinstance\u001b[39m(fname, \u001b[38;5;28mstr\u001b[39m):\n\u001b[0;32m-> 1977\u001b[0m     fid \u001b[38;5;241m=\u001b[39m \u001b[43mnp\u001b[49m\u001b[38;5;241;43m.\u001b[39;49m\u001b[43mlib\u001b[49m\u001b[38;5;241;43m.\u001b[39;49m\u001b[43m_datasource\u001b[49m\u001b[38;5;241;43m.\u001b[39;49m\u001b[43mopen\u001b[49m\u001b[43m(\u001b[49m\u001b[43mfname\u001b[49m\u001b[43m,\u001b[49m\u001b[43m \u001b[49m\u001b[38;5;124;43m'\u001b[39;49m\u001b[38;5;124;43mrt\u001b[39;49m\u001b[38;5;124;43m'\u001b[39;49m\u001b[43m,\u001b[49m\u001b[43m \u001b[49m\u001b[43mencoding\u001b[49m\u001b[38;5;241;43m=\u001b[39;49m\u001b[43mencoding\u001b[49m\u001b[43m)\u001b[49m\n\u001b[1;32m   1978\u001b[0m     fid_ctx \u001b[38;5;241m=\u001b[39m contextlib\u001b[38;5;241m.\u001b[39mclosing(fid)\n\u001b[1;32m   1979\u001b[0m \u001b[38;5;28;01melse\u001b[39;00m:\n",
      "File \u001b[0;32m~/opt/anaconda3/envs/sunproject/lib/python3.11/site-packages/numpy/lib/_datasource.py:193\u001b[0m, in \u001b[0;36mopen\u001b[0;34m(path, mode, destpath, encoding, newline)\u001b[0m\n\u001b[1;32m    156\u001b[0m \u001b[38;5;250m\u001b[39m\u001b[38;5;124;03m\"\"\"\u001b[39;00m\n\u001b[1;32m    157\u001b[0m \u001b[38;5;124;03mOpen `path` with `mode` and return the file object.\u001b[39;00m\n\u001b[1;32m    158\u001b[0m \n\u001b[0;32m   (...)\u001b[0m\n\u001b[1;32m    189\u001b[0m \n\u001b[1;32m    190\u001b[0m \u001b[38;5;124;03m\"\"\"\u001b[39;00m\n\u001b[1;32m    192\u001b[0m ds \u001b[38;5;241m=\u001b[39m DataSource(destpath)\n\u001b[0;32m--> 193\u001b[0m \u001b[38;5;28;01mreturn\u001b[39;00m \u001b[43mds\u001b[49m\u001b[38;5;241;43m.\u001b[39;49m\u001b[43mopen\u001b[49m\u001b[43m(\u001b[49m\u001b[43mpath\u001b[49m\u001b[43m,\u001b[49m\u001b[43m \u001b[49m\u001b[43mmode\u001b[49m\u001b[43m,\u001b[49m\u001b[43m \u001b[49m\u001b[43mencoding\u001b[49m\u001b[38;5;241;43m=\u001b[39;49m\u001b[43mencoding\u001b[49m\u001b[43m,\u001b[49m\u001b[43m \u001b[49m\u001b[43mnewline\u001b[49m\u001b[38;5;241;43m=\u001b[39;49m\u001b[43mnewline\u001b[49m\u001b[43m)\u001b[49m\n",
      "File \u001b[0;32m~/opt/anaconda3/envs/sunproject/lib/python3.11/site-packages/numpy/lib/_datasource.py:533\u001b[0m, in \u001b[0;36mDataSource.open\u001b[0;34m(self, path, mode, encoding, newline)\u001b[0m\n\u001b[1;32m    530\u001b[0m     \u001b[38;5;28;01mreturn\u001b[39;00m _file_openers[ext](found, mode\u001b[38;5;241m=\u001b[39mmode,\n\u001b[1;32m    531\u001b[0m                               encoding\u001b[38;5;241m=\u001b[39mencoding, newline\u001b[38;5;241m=\u001b[39mnewline)\n\u001b[1;32m    532\u001b[0m \u001b[38;5;28;01melse\u001b[39;00m:\n\u001b[0;32m--> 533\u001b[0m     \u001b[38;5;28;01mraise\u001b[39;00m \u001b[38;5;167;01mFileNotFoundError\u001b[39;00m(\u001b[38;5;124mf\u001b[39m\u001b[38;5;124m\"\u001b[39m\u001b[38;5;132;01m{\u001b[39;00mpath\u001b[38;5;132;01m}\u001b[39;00m\u001b[38;5;124m not found.\u001b[39m\u001b[38;5;124m\"\u001b[39m)\n",
      "\u001b[0;31mFileNotFoundError\u001b[0m: 2022_data.csv not found."
     ]
    }
   ],
   "source": [
    "weather_data = np.genfromtxt(\"2022_data.csv\",delimiter = \",\", usecols = (0,1,2,3,4,6,8,9,11,12,15,17,18,19,22), skip_header = 1, filling_values=0.0)[:, :-1]\n",
    "weather_tensor = torch.tensor(weather_data).float()\n",
    "xdims = weather_tensor.shape[1] - 1\n"
   ]
  },
  {
   "cell_type": "code",
   "execution_count": 5,
   "id": "09f21cc8-7b52-4694-83c9-921fd4420eb0",
   "metadata": {
    "tags": []
   },
   "outputs": [
    {
     "data": {
      "text/plain": [
       "'/Users/lena/projects/sun-project/temp_prediction'"
      ]
     },
     "execution_count": 5,
     "metadata": {},
     "output_type": "execute_result"
    }
   ],
   "source": [
    "import os\n",
    "os.getcwd()"
   ]
  },
  {
   "cell_type": "markdown",
   "id": "3b205802-ebfc-409a-839b-dbc9424cbe75",
   "metadata": {},
   "source": [
    "Make a pytorch DataSet from the tensor"
   ]
  },
  {
   "cell_type": "code",
   "execution_count": null,
   "id": "49ac3b65-2497-4fbc-a4f6-aad811409303",
   "metadata": {},
   "outputs": [],
   "source": [
    "weather_dataset = torch.utils.data.TensorDataset(weather_tensor[:, :-1], weather_tensor[:, -1:])\n"
   ]
  },
  {
   "cell_type": "markdown",
   "id": "ae5b1d70-e950-428d-bdbd-ef5b2a22c887",
   "metadata": {},
   "source": [
    "DataLoader \n",
    "puts data on the right device, shuffles, can use parallel programming, define batch size etc\n",
    "- sees everything in an epoch\n",
    "- next epoch, sees them in a different order\n",
    "- suffles with 32 irows in a batch\n"
   ]
  },
  {
   "cell_type": "code",
   "execution_count": null,
   "id": "6de71f8a-05a3-4e19-a9a4-f4ba504270a1",
   "metadata": {},
   "outputs": [],
   "source": [
    "loader = torch.utils.data.DataLoader(weather_dataset, shuffle=True, batch_size=32)\n"
   ]
  },
  {
   "cell_type": "code",
   "execution_count": null,
   "id": "39b23c8f-3eca-446b-8552-f8e356af67da",
   "metadata": {},
   "outputs": [],
   "source": [
    "net = torch.nn.Sequential(\n",
    "    torch.nn.Linear(xdims, 32), # takes in x dims columns, then funnels to a hidden layer of 32\n",
    "    torch.nn.ELU(), \n",
    "    # ELU is an activation layer, like a sigmoidal function!\n",
    "    torch.nn.Linear(32, 32),\n",
    "    torch.nn.ELU(),\n",
    "    torch.nn.Linear(32, 16),\n",
    "    torch.nn.ELU(),\n",
    "    torch.nn.Linear(16, 1)\n",
    ")\n"
   ]
  },
  {
   "cell_type": "code",
   "execution_count": null,
   "id": "be37741a-cc84-4a16-9ce6-22ca49ec2f76",
   "metadata": {},
   "outputs": [],
   "source": [
    "# Mean squared error loss function\n",
    "criterion = torch.nn.MSELoss()\n"
   ]
  },
  {
   "cell_type": "code",
   "execution_count": 110,
   "id": "53e282f5-1a01-443e-9165-3636340cd247",
   "metadata": {},
   "outputs": [],
   "source": [
    "# optimizer called Adam, using a learning rate of 1e-4\n",
    "opt = torch.optim.Adam(net.parameters(), 1e-4 )\n"
   ]
  },
  {
   "cell_type": "markdown",
   "id": "acb0eda7-d98d-4a91-931a-34fa1a40e8db",
   "metadata": {},
   "source": [
    "Training loop"
   ]
  },
  {
   "cell_type": "code",
   "execution_count": 135,
   "id": "2f373687-a0f6-4876-9bdb-93eeb08e8205",
   "metadata": {
    "tags": []
   },
   "outputs": [],
   "source": [
    "for ep in range(1000):\n",
    "    # every epoch sees every row exactly one time, but inputs are shuffled every epoch\n",
    "    total_loss = 0.0\n",
    "    \n",
    "    # batch by batch\n",
    "    for batch in loader:\n",
    "        \n",
    "        opt.zero_grad()\n",
    "        \n",
    "        batchX = batch[0]\n",
    "        batchY = batch[1]\n",
    "\n",
    "        pred = net(batchX)\n",
    "        loss = criterion(pred, batchY)\n",
    "        \n",
    "        loss.backward()\n",
    "        opt.step()\n",
    "        total_loss += loss\n",
    "\n"
   ]
  },
  {
   "cell_type": "code",
   "execution_count": 131,
   "id": "4f470cdf-a29e-49d0-86ef-1c7d43e0e426",
   "metadata": {
    "tags": []
   },
   "outputs": [],
   "source": [
    "## This code will print out the real, then expected for every batch of 32 \n",
    "# for batch in loader:\n",
    "#     batchX = batch[0]\n",
    "#     batchY = batch[1]\n",
    "#     print(batchY)\n",
    "#     print(net(batchX))\n",
    "    "
   ]
  },
  {
   "cell_type": "code",
   "execution_count": 1,
   "id": "be8e49ee-21c0-43be-9e0f-c1f0858a8808",
   "metadata": {
    "tags": []
   },
   "outputs": [
    {
     "ename": "NameError",
     "evalue": "name 'torch' is not defined",
     "output_type": "error",
     "traceback": [
      "\u001b[0;31m---------------------------------------------------------------------------\u001b[0m",
      "\u001b[0;31mNameError\u001b[0m                                 Traceback (most recent call last)",
      "Cell \u001b[0;32mIn[1], line 1\u001b[0m\n\u001b[0;32m----> 1\u001b[0m model_dynamic_quantized \u001b[38;5;241m=\u001b[39m \u001b[43mtorch\u001b[49m\u001b[38;5;241m.\u001b[39mquantization\u001b[38;5;241m.\u001b[39mquantize_dynamic(\n\u001b[1;32m      2\u001b[0m     net, qconfig_spec\u001b[38;5;241m=\u001b[39m{torch\u001b[38;5;241m.\u001b[39mnn\u001b[38;5;241m.\u001b[39mLinear}, dtype\u001b[38;5;241m=\u001b[39mtorch\u001b[38;5;241m.\u001b[39mqint8\n\u001b[1;32m      3\u001b[0m )\n",
      "\u001b[0;31mNameError\u001b[0m: name 'torch' is not defined"
     ]
    }
   ],
   "source": [
    "model_dynamic_quantized = torch.quantization.quantize_dynamic(\n",
    "    net, qconfig_spec={torch.nn.Linear}, dtype=torch.qint8\n",
    ")"
   ]
  },
  {
   "cell_type": "code",
   "execution_count": 136,
   "id": "4d7495b8-aae8-4a2a-b86b-330597006fdd",
   "metadata": {},
   "outputs": [],
   "source": [
    "# optimize for mobile so that we can export and use in Swift app\n",
    "example_tensor = weather_tensor[0,:-1]\n",
    "traced_script_module = torch.jit.trace(net, example_tensor)\n",
    "torchscript_model_optimized = optimize_for_mobile(traced_script_module)\n",
    "\n",
    "# save as .pt \n",
    "path = os.path.join(os.getcwd(),\"model.pt\")\n",
    "torchscript_model_optimized._save_for_lite_interpreter(path)\n",
    "\n"
   ]
  },
  {
   "cell_type": "markdown",
   "id": "175ac7b3-8403-4bcb-8d6a-6107cd6e4f1b",
   "metadata": {},
   "source": [
    "### Test"
   ]
  },
  {
   "cell_type": "code",
   "execution_count": 132,
   "id": "f248b69a-aff7-4745-b10c-edfc05d6847d",
   "metadata": {},
   "outputs": [
    {
     "data": {
      "text/plain": [
       "tensor(4.9000)"
      ]
     },
     "execution_count": 132,
     "metadata": {},
     "output_type": "execute_result"
    }
   ],
   "source": [
    "test = weather_tensor[0,:-1]\n",
    "label = weather_tensor[0,-1]\n",
    "label"
   ]
  },
  {
   "cell_type": "code",
   "execution_count": 133,
   "id": "f275ce8a-3b7f-4de7-915c-86c5be6252ed",
   "metadata": {},
   "outputs": [
    {
     "data": {
      "text/plain": [
       "tensor([3.8136], grad_fn=<AddBackward0>)"
      ]
     },
     "execution_count": 133,
     "metadata": {},
     "output_type": "execute_result"
    }
   ],
   "source": [
    "net(test)\n"
   ]
  },
  {
   "cell_type": "markdown",
   "id": "b2052d8b-24a2-499e-a1e8-54b4ef1b9d24",
   "metadata": {},
   "source": [
    "NOTES FROM CORY: HOW TO SPLIT UP training, validation, testing\n",
    "\n",
    "def train(loader):\n",
    "    one tound of training with all data in the loader\n",
    "    \n",
    "    \n",
    "def eval(loader):\n",
    "    feed evyerhting in batches to model, adds up and takes the losses of the batches\n",
    "    \n",
    "\n"
   ]
  },
  {
   "cell_type": "code",
   "execution_count": null,
   "id": "756e79aa-7681-4b25-aabc-ff03e400ea9d",
   "metadata": {},
   "outputs": [],
   "source": []
  }
 ],
 "metadata": {
  "kernelspec": {
   "display_name": "Python 3 (ipykernel)",
   "language": "python",
   "name": "python3"
  },
  "language_info": {
   "codemirror_mode": {
    "name": "ipython",
    "version": 3
   },
   "file_extension": ".py",
   "mimetype": "text/x-python",
   "name": "python",
   "nbconvert_exporter": "python",
   "pygments_lexer": "ipython3",
   "version": "3.11.0"
  }
 },
 "nbformat": 4,
 "nbformat_minor": 5
}
