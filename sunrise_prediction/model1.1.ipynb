{
 "cells": [
  {
   "cell_type": "markdown",
   "id": "4e883aeb-2d05-4ab3-bf99-dc438c57e45e",
   "metadata": {},
   "source": [
    "### Sunrise model\n",
    "based on a labeled weather dataset, predict whether the next sunrise will be beautiful\n",
    "- takes in weather vector for entire day for 365 days in COS AND label of good or bad"
   ]
  },
  {
   "cell_type": "code",
   "execution_count": 27,
   "id": "d0a4c2de-fa80-492f-80e3-a596d53c09ee",
   "metadata": {},
   "outputs": [],
   "source": [
    "import torch\n",
    "import os \n",
    "import numpy as np\n",
    "import matplotlib.pyplot as plt\n",
    "import json\n",
    "from sklearn import metrics\n",
    "import coremltools as ct\n",
    "\n",
    "\n",
    "# dependencies: python 3.9, numpy 1.19.5"
   ]
  },
  {
   "cell_type": "markdown",
   "id": "8e401610-e7e0-455c-a01a-bb66cf3a7af4",
   "metadata": {},
   "source": [
    "- load in weather data using only valid columns, leaving out the last column (wind chill label)\n",
    "- create a tensor from all data"
   ]
  },
  {
   "cell_type": "code",
   "execution_count": 28,
   "id": "538e3a05-f287-424b-8e03-1b38b85cd29a",
   "metadata": {},
   "outputs": [],
   "source": [
    "input_path = \"prepped_data_1.csv\"\n",
    "test_path = \"test_data_1.csv\"\n",
    "\n",
    "weather_data = np.genfromtxt(input_path,delimiter = \",\", skip_header = 1, filling_values=0.0)\n",
    "weather_tensor = torch.tensor(weather_data).float()\n",
    "\n",
    "# SETTING = \"sunrise\" \n",
    "SETTING = \"sunset\"\n",
    "\n",
    "output_path = SETTING + \"_model1.mlpackage\"\n"
   ]
  },
  {
   "cell_type": "markdown",
   "id": "ddb572fa-3308-4f6e-a973-518623fd31a6",
   "metadata": {},
   "source": [
    "read in as a tensor dataset"
   ]
  },
  {
   "cell_type": "code",
   "execution_count": 29,
   "id": "b411716b-f45b-4dd5-83b7-ff09fad7e454",
   "metadata": {
    "tags": []
   },
   "outputs": [],
   "source": [
    "# get labels from the sunrise, sunset columns\n",
    "\n",
    "sunrise_labels = weather_tensor[:, -2]\n",
    "sunset_labels = weather_tensor[:, -1]\n",
    "data = weather_tensor[:,:-2] # all weather data except sunrise and sunset labels\n"
   ]
  },
  {
   "cell_type": "markdown",
   "id": "a9693a99-633c-4451-9c63-a191854cdd7c",
   "metadata": {
    "tags": []
   },
   "source": [
    "# normalization"
   ]
  },
  {
   "cell_type": "code",
   "execution_count": 30,
   "id": "3a4ae514-461a-4bc0-90a5-d3b9ca47656d",
   "metadata": {
    "tags": []
   },
   "outputs": [],
   "source": [
    "# calculate mean and std and do the normalization by hand \n",
    "m = torch.mean(data, dim = 0)\n",
    "s = torch.std(data, dim = 0)\n",
    "\n",
    "norm_data = (data - m)/s\n",
    "\n",
    "# write out to jsons, export to coreml\n",
    "m = m.detach().numpy().tolist()\n",
    "s = s.detach().numpy().tolist()\n",
    "\n",
    "mean = json.dumps(m)\n",
    "std = json.dumps(s)\n",
    "\n",
    "with open('mean.json', 'w') as f:\n",
    "    f.write(mean)\n",
    "with open('std.json', 'w') as f:\n",
    "    f.write(std)\n"
   ]
  },
  {
   "cell_type": "code",
   "execution_count": 31,
   "id": "f528d031-9777-42f5-b2da-9559c382c52b",
   "metadata": {
    "tags": []
   },
   "outputs": [],
   "source": [
    "if SETTING == \"sunrise\":\n",
    "    weather_dataset = torch.utils.data.TensorDataset(norm_data, sunrise_labels)\n",
    "elif SETTING == \"sunset\":\n",
    "    weather_dataset = torch.utils.data.TensorDataset(norm_data, sunset_labels)\n",
    "else: \n",
    "    print(\"Error: Invalid setting input. Please enter sunrise or sunset\")\n",
    "    \n",
    "# number of columns (minus the labels columns)\n",
    "xdims = weather_tensor.shape[1] - 2\n",
    "# number of rows \n",
    "ydims = weather_tensor.shape[0]\n"
   ]
  },
  {
   "cell_type": "markdown",
   "id": "ae5b1d70-e950-428d-bdbd-ef5b2a22c887",
   "metadata": {},
   "source": [
    "DataLoader \n",
    "puts data on the right device, shuffles, can use parallel programming, define batch size etc\n",
    "- sees everything in an epoch\n",
    "- next epoch, sees them in a different order\n",
    "- suffles with 32 irows in a batch\n"
   ]
  },
  {
   "cell_type": "code",
   "execution_count": 32,
   "id": "6de71f8a-05a3-4e19-a9a4-f4ba504270a1",
   "metadata": {},
   "outputs": [],
   "source": [
    "loader = torch.utils.data.DataLoader(weather_dataset, shuffle=True, batch_size=32)\n"
   ]
  },
  {
   "cell_type": "code",
   "execution_count": 33,
   "id": "39b23c8f-3eca-446b-8552-f8e356af67da",
   "metadata": {},
   "outputs": [],
   "source": [
    "net = torch.nn.Sequential(\n",
    "    torch.nn.Linear(xdims, 32), # takes in x dims columns, then funnels to a hidden layer of 32\n",
    "    torch.nn.ELU(), \n",
    "    # ELU is an activation layer, like a sigmoidal function!\n",
    "    torch.nn.Linear(32, 32),\n",
    "    torch.nn.ELU(),\n",
    "    torch.nn.Linear(32, 16),\n",
    "    torch.nn.ELU(),\n",
    "    torch.nn.Linear(16, 1)\n",
    ")\n"
   ]
  },
  {
   "cell_type": "code",
   "execution_count": 34,
   "id": "be37741a-cc84-4a16-9ce6-22ca49ec2f76",
   "metadata": {},
   "outputs": [],
   "source": [
    "# Mean squared error loss function\n",
    "# criterion = torch.nn.MSELoss()\n",
    "\n",
    "## changing this to binary cross entropy with logits \n",
    "# w logits is more numerically stable \n",
    "criterion = torch.nn.BCEWithLogitsLoss() "
   ]
  },
  {
   "cell_type": "code",
   "execution_count": 35,
   "id": "53e282f5-1a01-443e-9165-3636340cd247",
   "metadata": {},
   "outputs": [],
   "source": [
    "# optimizer called Adam, using a learning rate of 1e-4\n",
    "opt = torch.optim.Adam(net.parameters(), 1e-4 )\n"
   ]
  },
  {
   "cell_type": "markdown",
   "id": "acb0eda7-d98d-4a91-931a-34fa1a40e8db",
   "metadata": {},
   "source": [
    "Training loop"
   ]
  },
  {
   "cell_type": "code",
   "execution_count": 36,
   "id": "2f373687-a0f6-4876-9bdb-93eeb08e8205",
   "metadata": {
    "tags": []
   },
   "outputs": [
    {
     "name": "stdout",
     "output_type": "stream",
     "text": [
      "--- epoch 0\n",
      "tensor(1293.6637, grad_fn=<AddBackward0>)\n",
      "--- epoch 30\n",
      "tensor(1245.4978, grad_fn=<AddBackward0>)\n",
      "--- epoch 60\n",
      "tensor(1229.6801, grad_fn=<AddBackward0>)\n",
      "--- epoch 90\n",
      "tensor(1218.3661, grad_fn=<AddBackward0>)\n",
      "--- epoch 120\n",
      "tensor(1209.2498, grad_fn=<AddBackward0>)\n",
      "--- epoch 150\n",
      "tensor(1202.4955, grad_fn=<AddBackward0>)\n",
      "--- epoch 180\n",
      "tensor(1194.7720, grad_fn=<AddBackward0>)\n",
      "--- epoch 210\n",
      "tensor(1189.0861, grad_fn=<AddBackward0>)\n",
      "--- epoch 240\n",
      "tensor(1182.8601, grad_fn=<AddBackward0>)\n",
      "--- epoch 270\n",
      "tensor(1176.6174, grad_fn=<AddBackward0>)\n",
      "--- epoch 300\n",
      "tensor(1170.5656, grad_fn=<AddBackward0>)\n",
      "--- epoch 330\n",
      "tensor(1165.2969, grad_fn=<AddBackward0>)\n",
      "--- epoch 360\n",
      "tensor(1159.9171, grad_fn=<AddBackward0>)\n",
      "--- epoch 390\n",
      "tensor(1155.1445, grad_fn=<AddBackward0>)\n",
      "--- epoch 420\n",
      "tensor(1150.5881, grad_fn=<AddBackward0>)\n",
      "--- epoch 450\n",
      "tensor(1145.8583, grad_fn=<AddBackward0>)\n",
      "--- epoch 480\n",
      "tensor(1142.1172, grad_fn=<AddBackward0>)\n",
      "--- epoch 510\n",
      "tensor(1137.6648, grad_fn=<AddBackward0>)\n",
      "--- epoch 540\n",
      "tensor(1133.7217, grad_fn=<AddBackward0>)\n",
      "--- epoch 570\n",
      "tensor(1129.4086, grad_fn=<AddBackward0>)\n",
      "--- epoch 600\n",
      "tensor(1126.2334, grad_fn=<AddBackward0>)\n",
      "--- epoch 630\n",
      "tensor(1121.7916, grad_fn=<AddBackward0>)\n",
      "--- epoch 660\n",
      "tensor(1118.7373, grad_fn=<AddBackward0>)\n",
      "--- epoch 690\n",
      "tensor(1115.3077, grad_fn=<AddBackward0>)\n",
      "--- epoch 720\n",
      "tensor(1111.6870, grad_fn=<AddBackward0>)\n",
      "--- epoch 750\n",
      "tensor(1109.5626, grad_fn=<AddBackward0>)\n",
      "--- epoch 780\n",
      "tensor(1105.6654, grad_fn=<AddBackward0>)\n",
      "--- epoch 810\n",
      "tensor(1102.8160, grad_fn=<AddBackward0>)\n",
      "--- epoch 840\n",
      "tensor(1099.6307, grad_fn=<AddBackward0>)\n",
      "--- epoch 870\n",
      "tensor(1097.3875, grad_fn=<AddBackward0>)\n",
      "--- epoch 900\n",
      "tensor(1094.8374, grad_fn=<AddBackward0>)\n",
      "--- epoch 930\n",
      "tensor(1092.2583, grad_fn=<AddBackward0>)\n",
      "--- epoch 960\n",
      "tensor(1089.5948, grad_fn=<AddBackward0>)\n",
      "--- epoch 990\n",
      "tensor(1088.0717, grad_fn=<AddBackward0>)\n"
     ]
    }
   ],
   "source": [
    "for ep in range(1000):\n",
    "    # every epoch sees every row exactly one time, but inputs are shuffled every epoch\n",
    "    total_loss = 0.0\n",
    "\n",
    "    # batch by batch\n",
    "    for batch in loader:\n",
    "\n",
    "        opt.zero_grad()\n",
    "\n",
    "        batchX = batch[0]\n",
    "        batchY = batch[1].unsqueeze(-1) # take this from size [21] --> size [21, 1]\n",
    "\n",
    "        pred = net(batchX)\n",
    "        loss = criterion(pred, batchY)\n",
    "\n",
    "        loss.backward()\n",
    "        opt.step()\n",
    "        total_loss += loss\n",
    "        \n",
    "    if ep%30 == 0: \n",
    "        print(\"--- epoch \" + str(ep))\n",
    "        print(total_loss)\n",
    "            \n"
   ]
  },
  {
   "cell_type": "markdown",
   "id": "ecc2cff5-d207-4c38-8ced-1867486744fd",
   "metadata": {},
   "source": [
    "### Test data\n"
   ]
  },
  {
   "cell_type": "code",
   "execution_count": 39,
   "id": "654c1066-468a-4f47-917b-19c7e8feea42",
   "metadata": {
    "tags": []
   },
   "outputs": [
    {
     "data": {
      "text/plain": [
       "torch.Size([9125, 19])"
      ]
     },
     "execution_count": 39,
     "metadata": {},
     "output_type": "execute_result"
    }
   ],
   "source": [
    "test_data = np.genfromtxt(test_path,delimiter = \",\", skip_header = 1, filling_values=0.0)\n",
    "test_tensor = torch.tensor(test_data).float()\n",
    "test_data = test_tensor[:,:-2]\n",
    "\n",
    "if SETTING == \"sunrise\":\n",
    "    test_labels = test_tensor[:,-2] \n",
    "elif SETTING == \"sunset\":\n",
    "    test_labels = test_tensor[:,-1] \n",
    "else: \n",
    "    print(\"Error: Invalid setting input. Please enter sunrise or sunset\")\n",
    "\n",
    "test_data.shape"
   ]
  },
  {
   "cell_type": "markdown",
   "id": "d0acc35e-5654-4f7c-81c4-f751fe203321",
   "metadata": {},
   "source": [
    "# Confusion Matrix\n",
    "- replace the numbers with the proportions\n",
    "- is it expected to have a lot of false negatives? "
   ]
  },
  {
   "cell_type": "code",
   "execution_count": 40,
   "id": "370e48b1-8259-4aed-ba22-2c1566f3341b",
   "metadata": {
    "tags": []
   },
   "outputs": [
    {
     "data": {
      "image/png": "[encoded data removed]",
      "text/plain": [
       "<Figure size 640x480 with 2 Axes>"
      ]
     },
     "metadata": {},
     "output_type": "display_data"
    }
   ],
   "source": [
    "\n",
    "actual = np.asarray(test_labels)\n",
    "\n",
    "# normalize test_data using previously defined mean and std\n",
    "m = torch.mean(data, dim = 0)\n",
    "s = torch.std(data, dim = 0)\n",
    "test_data = (test_data - m)/s\n",
    "\n",
    "predicted = []\n",
    "# predicted is the sigmoid of the output from the net\n",
    "for i, vector in enumerate(test_data): \n",
    "    prediction = torch.sigmoid(net(vector))\n",
    "    predicted.append(prediction)\n",
    "    \n",
    "# print(predicted[:100])\n",
    "predicted = [1.0 if (x >.5) else 0.0 for x in predicted ]\n",
    "predicted = np.asarray(predicted)\n",
    "\n",
    "confusion_matrix = metrics.confusion_matrix(actual, predicted)\n",
    "\n",
    "cm_display = metrics.ConfusionMatrixDisplay(confusion_matrix = confusion_matrix, display_labels = [False, True])\n",
    "\n",
    "cm_display.plot()\n",
    "plt.show()"
   ]
  },
  {
   "cell_type": "code",
   "execution_count": 42,
   "id": "ddec3232-cd02-4884-abba-11e13398662c",
   "metadata": {
    "tags": []
   },
   "outputs": [
    {
     "data": {
      "text/plain": [
       "<AxesSubplot:>"
      ]
     },
     "execution_count": 42,
     "metadata": {},
     "output_type": "execute_result"
    },
    {
     "data": {
      "image/png": "[encoded data removed]",
      "text/plain": [
       "<Figure size 640x480 with 2 Axes>"
      ]
     },
     "metadata": {},
     "output_type": "display_data"
    }
   ],
   "source": [
    "import seaborn as sns\n",
    "\n",
    "sns.heatmap(confusion_matrix/np.sum(confusion_matrix), annot=True, \n",
    "            fmt='.2%', cmap='Blues')"
   ]
  },
  {
   "cell_type": "markdown",
   "id": "353da735-85b9-40f8-894c-74f3cb249cb5",
   "metadata": {
    "tags": []
   },
   "source": [
    "### Quantize and convert to TorchScript\n",
    "The process of tracing takes an example input and traces its flow through the model. You can trace the model by creating an example image input, as shown in the above code using random data. To understand the reasons for tracing and how to trace a PyTorch model, see Model Tracing.\n",
    "\n",
    "\n",
    "If your model uses a data-dependent control flow, such as a loop or conditional, the traced model won't generalize to other inputs. In such cases you can experiment with applying PyTorch's JIT script (torch.jit.script) to your model as described in Model Scripting. You can also use a combination of tracing and scripting.\n",
    "\n"
   ]
  },
  {
   "cell_type": "code",
   "execution_count": 136,
   "id": "f1fb4f44-86e6-4b7d-8778-640f08fb6681",
   "metadata": {
    "tags": []
   },
   "outputs": [],
   "source": [
    "model_dynamic_quantized = torch.quantization.quantize_dynamic(\n",
    "    net, qconfig_spec={torch.nn.Linear}, dtype=torch.qint8\n",
    ")\n",
    "# set model to evaluation mode\n",
    "model_dynamic_quantized.eval()\n",
    "example_tensor = weather_tensor[0,:-2]\n",
    "# convert to torch script\n",
    "traced_script_module = torch.jit.trace(net, example_tensor)\n"
   ]
  },
  {
   "cell_type": "markdown",
   "id": "ef00261e-3dc8-42a8-91ca-581e966dbee6",
   "metadata": {},
   "source": [
    "### Convert to CoreML"
   ]
  },
  {
   "cell_type": "code",
   "execution_count": 65,
   "id": "62d0cf4a-0aea-4352-8dda-17875d0eacaf",
   "metadata": {
    "tags": []
   },
   "outputs": [
    {
     "name": "stderr",
     "output_type": "stream",
     "text": [
      "Model is not in eval mode. Consider calling '.eval()' on your model prior to conversion\n",
      "Converting PyTorch Frontend ==> MIL Ops:  92%|▉| 12/13 [00:00<00:00, 2968.72 ops/\n",
      "Running MIL Common passes:   0%|                     | 0/40 [00:00<?, ? passes/s]/Users/lena/opt/anaconda3/envs/sunproject/lib/python3.9/site-packages/coremltools/converters/mil/mil/passes/name_sanitization_utils.py:107: UserWarning: Input, 'input.1', of the source model, has been renamed to 'input_1' in the Core ML model.\n",
      "  warnings.warn(msg.format(var.name, new_name))\n",
      "/Users/lena/opt/anaconda3/envs/sunproject/lib/python3.9/site-packages/coremltools/converters/mil/mil/passes/name_sanitization_utils.py:135: UserWarning: Output, '26', of the source model, has been renamed to 'var_26' in the Core ML model.\n",
      "  warnings.warn(msg.format(var.name, new_name))\n",
      "Running MIL Common passes: 100%|██████████| 40/40 [00:00<00:00, 3193.59 passes/s]\n",
      "Running MIL FP16ComputePrecision pass: 100%|█| 1/1 [00:00<00:00, 137.02 passes/s]\n",
      "Running MIL Clean up passes: 100%|████████| 11/11 [00:00<00:00, 1150.24 passes/s]\n"
     ]
    }
   ],
   "source": [
    "\n",
    "# Using image_input in the inputs parameter:\n",
    "# Convert to Core ML program using the Unified Conversion API.\n",
    "model = ct.convert(\n",
    "    traced_script_module,\n",
    "    convert_to=\"mlprogram\",\n",
    "    inputs=[ct.TensorType(shape=example_tensor.shape)]\n",
    " )"
   ]
  },
  {
   "cell_type": "code",
   "execution_count": 138,
   "id": "be88aac8-0524-4eb3-ae71-3660e5f39e32",
   "metadata": {
    "tags": []
   },
   "outputs": [],
   "source": [
    "# Save the converted model.\n",
    "model.save(output_path)"
   ]
  }
 ],
 "metadata": {
  "kernelspec": {
   "display_name": "Python 3 (ipykernel)",
   "language": "python",
   "name": "python3"
  },
  "language_info": {
   "codemirror_mode": {
    "name": "ipython",
    "version": 3
   },
   "file_extension": ".py",
   "mimetype": "text/x-python",
   "name": "python",
   "nbconvert_exporter": "python",
   "pygments_lexer": "ipython3",
   "version": "3.9.16"
  }
 },
 "nbformat": 4,
 "nbformat_minor": 5
}
