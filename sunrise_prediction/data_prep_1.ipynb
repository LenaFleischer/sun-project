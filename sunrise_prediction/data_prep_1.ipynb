{
 "cells": [
  {
   "cell_type": "markdown",
   "id": "18cdb0ba-d7c3-41b7-824c-03bf74df8be7",
   "metadata": {},
   "source": [
    "## Prepping data for learning\n",
    "### Method: every hour of the day labeled for sunrise and sunset, big batch approach (model 1)\n",
    "\n",
    "inputs: \n",
    "- csv of dates separated on new line\n",
    "- csv of weather data to label\n",
    "\n",
    "output: \n",
    "- labeled weather data"
   ]
  },
  {
   "cell_type": "code",
   "execution_count": 17,
   "id": "73b6a894-7553-4711-92e5-2efb09e1c6fe",
   "metadata": {
    "tags": []
   },
   "outputs": [],
   "source": [
    "import numpy as np\n",
    "import matplotlib.pyplot as plt\n",
    "import pandas as pd\n",
    "import os"
   ]
  },
  {
   "cell_type": "markdown",
   "id": "cfa848aa-43d9-4ef1-9453-541bc6c4c5c4",
   "metadata": {},
   "source": [
    "### Sunrise Date Dictionary\n",
    "Read in the dates csv to make a dictionary of all dates with sunrise photos\n",
    "\n",
    "dictionary structure: \n",
    "- key is date\n",
    "- value is a tuple of booleans (sunrise = 0, sunset = 0)\n",
    "- 0 for no photos exist, 1 for photo exists"
   ]
  },
  {
   "cell_type": "code",
   "execution_count": 18,
   "id": "80402311-401c-41a6-befe-52d5623b689c",
   "metadata": {
    "tags": []
   },
   "outputs": [],
   "source": [
    "# sunrise_path = os.path.join(os.getcwd(),\"data2011-2017\", \"denver_sunrise.csv\")\n",
    "# sunset_path = os.path.join(os.getcwd(),\"data2011-2017\", \"denver_sunset.csv\")\n",
    "# weather_path = os.path.join(os.getcwd(),\"data2011-2017\", \"weather_data.csv\")\n",
    "# output_path = 'prepped_data_1.csv'\n",
    "\n",
    "sunrise_path = os.path.join(os.getcwd(),\"data2019\", \"denver_sunrise.csv\")\n",
    "sunset_path = os.path.join(os.getcwd(),\"data2019\", \"denver_sunset.csv\")\n",
    "weather_path = os.path.join(os.getcwd(),\"data2019\", \"weather_data.csv\")\n",
    "output_path = 'test_data_1.csv'\n"
   ]
  },
  {
   "cell_type": "code",
   "execution_count": 19,
   "id": "77b7e346-fb01-4fdd-a3eb-52152aa9d580",
   "metadata": {
    "tags": []
   },
   "outputs": [],
   "source": [
    "# get a dictionary of the sunrise and sunset times\n",
    "# this will be used to verify whether the photo datetime is accurate or not.\n",
    "# any date whose time is not within an hour of sunrise or sunset will be taken out of the dataset\n",
    "\n",
    "times = pd.read_csv(weather_path, usecols = ['Sunrise', 'Sunset'] )\n",
    "sunrise_times = {}\n",
    "for datetime in times['Sunrise']: \n",
    "    date = datetime[:10]\n",
    "    hour = int(datetime[11:13])\n",
    "    minute = int(datetime[14:16])\n",
    "    time = hour * 60 + minute\n",
    "    sunrise_times[date] = time \n",
    "    \n",
    "sunset_times = {}\n",
    "for datetime in times['Sunset']: \n",
    "    date = datetime[:10]\n",
    "    hour = int(datetime[11:13])\n",
    "    minute = int(datetime[14:16])\n",
    "    time = hour * 60 + minute\n",
    "    sunset_times[date] = time \n",
    "    "
   ]
  },
  {
   "cell_type": "code",
   "execution_count": 20,
   "id": "2c6e54e3-23e8-43a9-8159-6a0f7acb358b",
   "metadata": {
    "tags": []
   },
   "outputs": [],
   "source": [
    "# create a dictionary of all dates with photos\n",
    "dates = {}\n",
    "\n",
    "# sunrise\n",
    "df = pd.read_csv(sunrise_path)\n",
    "  \n",
    "for column in df: \n",
    "    columnSeriesObj = df[column]\n",
    "    for item in columnSeriesObj.values:\n",
    "        date = item[:10]\n",
    "        hour = int(item[11:13])\n",
    "        minute = int(item[14:16])\n",
    "        photo_time = hour * 60 + minute\n",
    "    \n",
    "        real_time = sunrise_times.get(date)\n",
    "        # check alleged time's proximity to the real sunrise time to make sure that this is a valid date\n",
    "        # if real time -60 < photo time < real time + 60\n",
    "        if real_time - 60 < photo_time < real_time + 60:  \n",
    "            dates[date] = (1,0)\n",
    "\n",
    "# sunset\n",
    "df = pd.read_csv(sunset_path)\n",
    "\n",
    "# if it is already in dictionary,\n",
    "# keep sunrise value in the tuple, make the sunset value a 1\n",
    "# if not in the dictionary,\n",
    "# add to the dictionary with 0 for sunrise value\n",
    "for column in df: \n",
    "    columnSeriesObj = df[column]\n",
    "    for item in columnSeriesObj.values:\n",
    "        date = item[:10]\n",
    "        hour = int(item[11:13])\n",
    "        minute = int(item[14:16])\n",
    "        photo_time = hour * 60 + minute\n",
    "        real_time = sunset_times.get(date)\n",
    "        # if valid:\n",
    "        if real_time - 60 < photo_time < real_time + 60: \n",
    "            if date in dates: \n",
    "                dates[date] = (dates[date][0], 1) \n",
    "\n",
    "            else:\n",
    "                dates[date] = (0,1)\n",
    "        \n",
    "        "
   ]
  },
  {
   "cell_type": "code",
   "execution_count": 21,
   "id": "7fdcd4b4-54ac-4ad9-ad81-10315ced356a",
   "metadata": {
    "tags": []
   },
   "outputs": [],
   "source": [
    "# # create a dictionary of all dates with photos\n",
    "# dates = {}\n",
    "\n",
    "# # sunrise\n",
    "# df = pd.read_csv(sunrise_path)\n",
    "\n",
    "# for column in df: \n",
    "#     columnSeriesObj = df[column]\n",
    "#     for item in columnSeriesObj.values:\n",
    "#         date = item[:10]\n",
    "#         # if it is within sunrise times \n",
    "#         dates[date] = (1,0)\n",
    "    \n",
    "# # sunset\n",
    "# df = pd.read_csv(sunset_path)\n",
    "\n",
    "# for column in df: \n",
    "#     columnSeriesObj = df[column]\n",
    "#     for item in columnSeriesObj.values:\n",
    "#         date = item[:10]\n",
    "#         # if it is already in dictionary,\n",
    "#         # keep sunrise value in the tuple, make the sunset value a 1\n",
    "#         if date in dates: \n",
    "#             dates[date] = (dates[date][0], 1) \n",
    "#         # if not in the dictionary,\n",
    "#         # add to the dictionary with 0 for sunrise value\n",
    "#         else:\n",
    "#             dates[date] = (0,1)\n",
    "# og_dates = dates\n"
   ]
  },
  {
   "cell_type": "markdown",
   "id": "a4977cb1-fe08-433e-a8bc-23fc5472bf50",
   "metadata": {},
   "source": [
    "denver cleaning: \n",
    "\n",
    "- 396 sunrise dates removed\n",
    "- 570 sunset dates removed\n",
    "- 816 remained the same\n"
   ]
  },
  {
   "cell_type": "markdown",
   "id": "d57e5575-eafd-46d4-bf09-4d0c166a0257",
   "metadata": {},
   "source": [
    "### Clean the weather data\n",
    "- read in the csv with full weather data as a pandas dataframe\n"
   ]
  },
  {
   "cell_type": "code",
   "execution_count": 22,
   "id": "ac9972fa-3e0d-43fb-9109-b6feb6bba5dc",
   "metadata": {
    "tags": []
   },
   "outputs": [],
   "source": [
    "input_file = pd.read_csv(weather_path)\n",
    "# input_file"
   ]
  },
  {
   "cell_type": "markdown",
   "id": "3a71cc6f-975e-43dc-96bf-9e5407e32843",
   "metadata": {},
   "source": [
    "find out what conditions exist"
   ]
  },
  {
   "cell_type": "code",
   "execution_count": 23,
   "id": "7785a9ce-97e4-4175-993d-58f1527d4cee",
   "metadata": {
    "tags": []
   },
   "outputs": [],
   "source": [
    "output = pd.read_csv(weather_path)\n",
    "conditions = {}\n",
    "for row in output['Conditions']:\n",
    "    for item in row.split(', '):\n",
    "        if item not in conditions: \n",
    "            conditions[item] = 0\n",
    "        else: \n",
    "            conditions[item] += 1\n",
    "            \n",
    "\n",
    "types = {}\n",
    "for row in output['Weather Type']:\n",
    "    if isinstance(row, str):\n",
    "        for item in row.split(', '):\n",
    "            if item not in types: \n",
    "                types[item] = 1\n",
    "            else: \n",
    "                types[item] += 1\n",
    "\n",
    "# make a new column in this order for every condition\n",
    "for condition in list(conditions):\n",
    "    output.at[:,\"Condition: \" + condition] = 0.0\n",
    "    \n",
    "# make a new column in this order for every weather type\n",
    "for type in list(types):\n",
    "    output.at[:,\"Type: \" + type] = 0.0"
   ]
  },
  {
   "cell_type": "code",
   "execution_count": 24,
   "id": "b0401c50-f341-49fb-9ce5-f9adb15abc04",
   "metadata": {
    "tags": []
   },
   "outputs": [],
   "source": [
    "output = pd.read_csv(weather_path)\n",
    "\n",
    "# rename sunrise and sunset date time columns \n",
    "output.rename(columns = {'Sunrise':'Sunrise Time', 'Sunset':'Sunset Time'}, inplace = True)\n",
    "\n",
    "\n",
    "# # change to sunrise times\n",
    "# # https://note.nkmk.me/en/python-pandas-str-slice/\n",
    "# hour = output['Sunrise Time'].str[11:13]\n",
    "# minute = output['Sunrise Time'].str[14:16]\n",
    "# maybe convert it into a floating point which represents current time in minutes / total minutes in a day\n",
    "\n",
    "\n",
    "# change conditions into one conditions vector with 0s and 1s --> Condition: <condition>\n",
    "for i, row in enumerate(output['Conditions']):\n",
    "    for condition in row.split(', '):\n",
    "        output.at[i,\"Condition: \" + condition] = 1\n",
    "\n",
    "# # weather types --> Type: <weather_type>\n",
    "# for i, row in enumerate(output['Weather Type']):\n",
    "#         if isinstance(row, str):\n",
    "#             for type in row.split(', '):\n",
    "#                 output.at[i,\"Type: \" +type] = 1\n",
    "\n",
    "# add sunrise and sunset labels based on the dates dictionary\n",
    "for i, row in enumerate(output['Date time']):\n",
    "    date = row[:10]\n",
    "    \n",
    "    # get date data\n",
    "    output.at[i, \"Month\"] = int(row[5:7])\n",
    "    output.at[i, \"Hour\"] = int(row[-8:-6])\n",
    "    \n",
    "    \n",
    "    # check the dates dictionary \n",
    "    # if the first value in tuple is 1, label yes sunrise, if second, label yes sunset\n",
    "    if date in dates: \n",
    "        if dates.get(date)[0]:\n",
    "            output.at[i,'Sunrise']= 1.0\n",
    "        if dates.get(date)[1]:\n",
    "            output.at[i,'Sunset']= 1.0\n",
    "        \n",
    "# populate NaNs with 0.0s\n",
    "output = output.fillna(0)\n",
    "\n",
    "# delete any column with strings or unecessary info\n",
    "output = output.drop(['Moon Phase', 'Minimum Temperature', 'Precipitation Cover', 'Maximum Temperature', 'Latitude', 'Longitude', 'Date time', 'Info', 'Address', 'Conditions', 'Weather Type', 'Sunrise Time', 'Sunset Time', 'Resolved Address', 'Name'], axis=1)\n"
   ]
  },
  {
   "cell_type": "code",
   "execution_count": 25,
   "id": "e0ed9d2e-c7a8-4984-afa8-cb5b5c26d88e",
   "metadata": {
    "tags": []
   },
   "outputs": [],
   "source": [
    "# # iterating the columns\n",
    "# list(output)"
   ]
  },
  {
   "cell_type": "code",
   "execution_count": 26,
   "id": "7fbb3e47-7778-45cc-b7d9-1dc005a43eca",
   "metadata": {
    "tags": []
   },
   "outputs": [],
   "source": [
    "# index = False makes it ignore the first column\n",
    "output.to_csv(output_path, index=False) \n"
   ]
  },
  {
   "cell_type": "code",
   "execution_count": null,
   "id": "8a09d83b-2e20-4692-843a-3e0a28bc6c80",
   "metadata": {},
   "outputs": [],
   "source": []
  },
  {
   "cell_type": "code",
   "execution_count": null,
   "id": "d5528835-b80b-4a77-a5ac-44860748ef34",
   "metadata": {},
   "outputs": [],
   "source": []
  }
 ],
 "metadata": {
  "kernelspec": {
   "display_name": "Python 3 (ipykernel)",
   "language": "python",
   "name": "python3"
  },
  "language_info": {
   "codemirror_mode": {
    "name": "ipython",
    "version": 3
   },
   "file_extension": ".py",
   "mimetype": "text/x-python",
   "name": "python",
   "nbconvert_exporter": "python",
   "pygments_lexer": "ipython3",
   "version": "3.9.16"
  }
 },
 "nbformat": 4,
 "nbformat_minor": 5
}
