{
 "cells": [
  {
   "cell_type": "markdown",
   "id": "18cdb0ba-d7c3-41b7-824c-03bf74df8be7",
   "metadata": {
    "tags": []
   },
   "source": [
    "## Prepping data for learning\n",
    "### Method: based on the sunrise hour, is the sunrise beautiful?\n",
    "\n",
    "\n",
    "inputs: \n",
    "- csv of dates separated on new line\n",
    "- csv of weather data to label\n",
    "\n",
    "output: \n",
    "- labeled weather data"
   ]
  },
  {
   "cell_type": "markdown",
   "id": "b90dcc5c-1221-4d4f-8b2c-c4f205d8f276",
   "metadata": {},
   "source": [
    " what we need: \n",
    " - iterate through the data, only keep rows whose time is within sunset time\n",
    " - same with sunrise time \n",
    "    \n",
    "code: \n",
    "\n",
    "    for day in data: \n",
    "        find sunrise time for the day (should be the sunrise column) \n",
    "        turn that time into minutes, store as sunrise time\n",
    "            \n",
    "            for hour in day: \n",
    "                find the weather vector time \n",
    "                turn that time into minutes\n",
    "                \n",
    "                if sunrise time - 60 < vector time < sunrise time + 60 :\n",
    "                    put row in sunrise data frame\n"
   ]
  },
  {
   "cell_type": "code",
   "execution_count": 11,
   "id": "73b6a894-7553-4711-92e5-2efb09e1c6fe",
   "metadata": {
    "tags": []
   },
   "outputs": [],
   "source": [
    "import numpy as np\n",
    "import matplotlib.pyplot as plt\n",
    "import pandas as pd\n",
    "import os"
   ]
  },
  {
   "cell_type": "markdown",
   "id": "cfa848aa-43d9-4ef1-9453-541bc6c4c5c4",
   "metadata": {},
   "source": [
    "### Sunrise/Sunset Date Dictionary\n",
    "Read in the dates csv to make a dictionary of all dates with sunrise photos\n",
    "\n",
    "dictionary structure: \n",
    "- key is date\n",
    "- value is a tuple of booleans (sunrise = 0, sunset = 0)\n",
    "- 0 for no photos exist, 1 for photo exists"
   ]
  },
  {
   "cell_type": "code",
   "execution_count": 12,
   "id": "80402311-401c-41a6-befe-52d5623b689c",
   "metadata": {
    "tags": []
   },
   "outputs": [],
   "source": [
    "sunrise_path = os.path.join(os.getcwd(),\"data2011-2017\", \"denver_sunrise.csv\")\n",
    "sunset_path = os.path.join(os.getcwd(),\"data2011-2017\", \"denver_sunset.csv\")\n",
    "weather_path = os.path.join(os.getcwd(),\"data2011-2017\", \"weather_data.csv\")\n",
    "output_path = 'prepped_data_2.csv'\n",
    "\n",
    "# sunrise_path = os.path.join(os.getcwd(),\"data2019\", \"denver_sunrise.csv\")\n",
    "# sunset_path = os.path.join(os.getcwd(),\"data2019\", \"denver_sunset.csv\")\n",
    "# weather_path = os.path.join(os.getcwd(),\"data2019\", \"weather_data.csv\")\n",
    "# output_path = 'test_data_2.csv'"
   ]
  },
  {
   "cell_type": "code",
   "execution_count": 13,
   "id": "77b7e346-fb01-4fdd-a3eb-52152aa9d580",
   "metadata": {
    "tags": []
   },
   "outputs": [],
   "source": [
    "# get a dictionary of the sunrise and sunset times\n",
    "# this will be used to verify whether the photo datetime is accurate or not.\n",
    "# any date whose time is not within an hour of sunrise or sunset will be taken out of the dataset\n",
    "\n",
    "times = pd.read_csv(weather_path, usecols = ['Sunrise', 'Sunset'] )\n",
    "sunrise_times = {}\n",
    "for datetime in times['Sunrise']: \n",
    "    date = datetime[:10]\n",
    "    hour = int(datetime[11:13])\n",
    "    minute = int(datetime[14:16])\n",
    "    time = hour * 60 + minute\n",
    "    sunrise_times[date] = time \n",
    "    \n",
    "sunset_times = {}\n",
    "for datetime in times['Sunset']: \n",
    "    date = datetime[:10]\n",
    "    hour = int(datetime[11:13])\n",
    "    minute = int(datetime[14:16])\n",
    "    time = hour * 60 + minute\n",
    "    sunset_times[date] = time \n",
    "\n"
   ]
  },
  {
   "cell_type": "code",
   "execution_count": 14,
   "id": "2c6e54e3-23e8-43a9-8159-6a0f7acb358b",
   "metadata": {
    "tags": []
   },
   "outputs": [],
   "source": [
    "# create a dictionary of all dates with photos\n",
    "dates = {}\n",
    "\n",
    "# sunrise\n",
    "df = pd.read_csv(sunrise_path)\n",
    "  \n",
    "for column in df: \n",
    "    columnSeriesObj = df[column]\n",
    "    for item in columnSeriesObj.values:\n",
    "        date = item[:10]\n",
    "        hour = int(item[11:13])\n",
    "        minute = int(item[14:16])\n",
    "        photo_time = hour * 60 + minute\n",
    "    \n",
    "        real_time = sunrise_times.get(date)\n",
    "        # check alleged time's proximity to the real sunrise time to make sure that this is a valid date\n",
    "        # if real time -60 < photo time < real time + 60\n",
    "        if real_time - 60 < photo_time < real_time + 60:  \n",
    "            dates[date] = (1,0)\n",
    "\n",
    "# sunset\n",
    "df = pd.read_csv(sunset_path)\n",
    "\n",
    "# if it is already in dictionary,\n",
    "# keep sunrise value in the tuple, make the sunset value a 1\n",
    "# if not in the dictionary,\n",
    "# add to the dictionary with 0 for sunrise value\n",
    "for column in df: \n",
    "    columnSeriesObj = df[column]\n",
    "    for item in columnSeriesObj.values:\n",
    "        date = item[:10]\n",
    "        hour = int(item[11:13])\n",
    "        minute = int(item[14:16])\n",
    "        photo_time = hour * 60 + minute\n",
    "        real_time = sunset_times.get(date)\n",
    "        # if valid:\n",
    "        if real_time - 60 < photo_time < real_time + 60: \n",
    "            if date in dates: \n",
    "                dates[date] = (dates[date][0], 1) \n",
    "\n",
    "            else:\n",
    "                dates[date] = (0,1)\n",
    "        \n",
    "# dates"
   ]
  },
  {
   "cell_type": "code",
   "execution_count": 15,
   "id": "7fdcd4b4-54ac-4ad9-ad81-10315ced356a",
   "metadata": {
    "jupyter": {
     "source_hidden": true
    },
    "tags": []
   },
   "outputs": [],
   "source": [
    "# # create a dictionary of all dates with photos\n",
    "# dates = {}\n",
    "\n",
    "# # sunrise\n",
    "# df = pd.read_csv(sunrise_path)\n",
    "\n",
    "# for column in df: \n",
    "#     columnSeriesObj = df[column]\n",
    "#     for item in columnSeriesObj.values:\n",
    "#         date = item[:10]\n",
    "#         # if it is within sunrise times \n",
    "#         dates[date] = (1,0)\n",
    "    \n",
    "# # sunset\n",
    "# df = pd.read_csv(sunset_path)\n",
    "\n",
    "# for column in df: \n",
    "#     columnSeriesObj = df[column]\n",
    "#     for item in columnSeriesObj.values:\n",
    "#         date = item[:10]\n",
    "#         # if it is already in dictionary,\n",
    "#         # keep sunrise value in the tuple, make the sunset value a 1\n",
    "#         if date in dates: \n",
    "#             dates[date] = (dates[date][0], 1) \n",
    "#         # if not in the dictionary,\n",
    "#         # add to the dictionary with 0 for sunrise value\n",
    "#         else:\n",
    "#             dates[date] = (0,1)\n",
    "# og_dates = dates\n"
   ]
  },
  {
   "cell_type": "markdown",
   "id": "a4977cb1-fe08-433e-a8bc-23fc5472bf50",
   "metadata": {},
   "source": [
    "denver cleaning: \n",
    "\n",
    "- 396 sunrise dates removed\n",
    "- 570 sunset dates removed\n",
    "- 816 remained the same\n"
   ]
  },
  {
   "cell_type": "markdown",
   "id": "d57e5575-eafd-46d4-bf09-4d0c166a0257",
   "metadata": {},
   "source": [
    "### Clean the weather data\n",
    "- read in the csv with full weather data as a pandas dataframe\n"
   ]
  },
  {
   "cell_type": "code",
   "execution_count": 16,
   "id": "ac9972fa-3e0d-43fb-9109-b6feb6bba5dc",
   "metadata": {
    "tags": []
   },
   "outputs": [],
   "source": [
    "input_file = pd.read_csv(weather_path)\n"
   ]
  },
  {
   "cell_type": "markdown",
   "id": "3a71cc6f-975e-43dc-96bf-9e5407e32843",
   "metadata": {},
   "source": [
    "find out what conditions exist"
   ]
  },
  {
   "cell_type": "code",
   "execution_count": 17,
   "id": "7785a9ce-97e4-4175-993d-58f1527d4cee",
   "metadata": {
    "tags": []
   },
   "outputs": [],
   "source": [
    "output = pd.read_csv(weather_path)\n",
    "conditions = {}\n",
    "for row in output['Conditions']:\n",
    "    for item in row.split(', '):\n",
    "        if item not in conditions: \n",
    "            conditions[item] = 0\n",
    "        else: \n",
    "            conditions[item] += 1\n",
    "            \n",
    "\n",
    "types = {}\n",
    "for row in output['Weather Type']:\n",
    "    if isinstance(row, str):\n",
    "        for item in row.split(', '):\n",
    "            if item not in types: \n",
    "                types[item] = 1\n",
    "            else: \n",
    "                types[item] += 1\n",
    "\n",
    "# make a new column in this order for every condition\n",
    "for condition in list(conditions):\n",
    "    output.at[:,\"Condition: \" + condition] = 0.0\n",
    "    \n",
    "# make a new column in this order for every weather type\n",
    "for type in list(types):\n",
    "    output.at[:,\"Type: \" + type] = 0.0"
   ]
  },
  {
   "cell_type": "code",
   "execution_count": 18,
   "id": "b0401c50-f341-49fb-9ce5-f9adb15abc04",
   "metadata": {
    "tags": []
   },
   "outputs": [],
   "source": [
    "output = pd.read_csv(weather_path)\n",
    "\n",
    "# rename sunrise and sunset date time columns \n",
    "output.rename(columns = {'Sunrise':'Sunrise Time', 'Sunset':'Sunset Time'}, inplace = True)\n",
    "\n",
    "\n",
    "# change conditions into one conditions vector with 0s and 1s --> Condition: <condition>\n",
    "for i, row in enumerate(output['Conditions']):\n",
    "    for condition in row.split(', '):\n",
    "        output.at[i,\"Condition: \" + condition] = 1\n",
    "\n",
    "# # weather types --> Type: <weather_type>\n",
    "# for i, row in enumerate(output['Weather Type']):\n",
    "#         if isinstance(row, str):\n",
    "#             for type in row.split(', '):\n",
    "#                 output.at[i,\"Type: \" +type] = 1\n",
    "\n",
    "# add sunrise and sunset labels based on the dates dictionary\n",
    "for i, row in enumerate(output['Date time']):\n",
    "    date = row[:10]\n",
    "    # get date data\n",
    "    output.at[i, \"Month\"] = int(row[5:7])\n",
    "    output.at[i, \"Hour\"] = int(row[-8:-6])\n",
    "    # check the dates dictionary \n",
    "    # if the first value in tuple is 1, label yes sunrise, if second, label yes sunset\n",
    "    if date in dates: \n",
    "        if dates.get(date)[0]:\n",
    "            output.at[i,'Sunrise']= 1.0\n",
    "            \n",
    "        if dates.get(date)[1]:\n",
    "            output.at[i,'Sunset']= 1.0\n",
    "    \n",
    "\n",
    "# change to sunrise times\n",
    "# FOR THIS VERSION, ONLY KEEP SUNRISE TIME vectors (store in sunrise output) \n",
    "# https://note.nkmk.me/en/python-pandas-str-slice/\n",
    "hour = output['Sunrise Time'].str[11:13]\n",
    "to_drop = []\n",
    "for i, time in enumerate(output['Sunrise Time']):\n",
    "    \n",
    "    sunrise_hour = int(time[11:13])\n",
    "    # NOTE! RIGHT NOW, just dropping the bad hours, but in the future will make a new df \n",
    "    if sunrise_hour != output['Hour'].get(i):\n",
    "        to_drop.append(i)\n",
    "        # keep the vector in the sunrise dataframe\n",
    "        # print(sunrise_hour, output['Hour'].get(i))\n",
    "\n",
    "output = output.drop(to_drop) # drop all non sunrise hours\n",
    "        \n",
    "# populate NaNs with 0.0s\n",
    "output = output.fillna(0)\n",
    "\n",
    "# delete any column with strings or unecessary info\n",
    "output = output.drop(['Moon Phase', 'Heat Index', 'Minimum Temperature', 'Precipitation Cover', 'Maximum Temperature', 'Latitude', 'Longitude', 'Date time', 'Info', 'Address', 'Conditions', 'Weather Type', 'Sunrise Time', 'Sunset Time', 'Resolved Address', 'Name'], axis=1)\n"
   ]
  },
  {
   "cell_type": "code",
   "execution_count": 34,
   "id": "e0ed9d2e-c7a8-4984-afa8-cb5b5c26d88e",
   "metadata": {
    "tags": []
   },
   "outputs": [
    {
     "data": {
      "text/plain": [
       "0.2800156433320297"
      ]
     },
     "execution_count": 34,
     "metadata": {},
     "output_type": "execute_result"
    }
   ],
   "source": [
    "# # iterating the columns\n",
    "list(output)\n",
    "output['Sunrise'].sum()/2557\n",
    "# output['Sunrise'].sum()\n"
   ]
  },
  {
   "cell_type": "code",
   "execution_count": 35,
   "id": "3ffa694d-fd22-41a5-be9c-0a49103f1e2f",
   "metadata": {
    "tags": []
   },
   "outputs": [
    {
     "data": {
      "text/plain": [
       "0.375831052014079"
      ]
     },
     "execution_count": 35,
     "metadata": {},
     "output_type": "execute_result"
    }
   ],
   "source": [
    "output['Sunset'].sum()/2557\n"
   ]
  },
  {
   "cell_type": "code",
   "execution_count": null,
   "id": "19842d59-d39d-455d-90fe-a4cf74f01ac6",
   "metadata": {},
   "outputs": [],
   "source": []
  },
  {
   "cell_type": "code",
   "execution_count": 141,
   "id": "9a3a32c3-366b-4f31-827a-f8ac4e41a190",
   "metadata": {},
   "outputs": [],
   "source": [
    "# diff_sunrise = 0\n",
    "# diff_sunset = 0\n",
    "# same = 0\n",
    "\n",
    "# for og, new in zip(og_dates.keys(), dates.keys()):\n",
    "#     if og_dates.get(og)[0] != dates.get(new)[0]:\n",
    "#         diff_sunrise +=1\n",
    "#     if og_dates.get(og)[1] != dates.get(new)[1]:\n",
    "\n",
    "        \n",
    "# print(diff_sunrise, diff_sunset, same)"
   ]
  },
  {
   "cell_type": "code",
   "execution_count": null,
   "id": "277490b7-3849-4169-b39e-0b0b1874163c",
   "metadata": {},
   "outputs": [],
   "source": []
  },
  {
   "cell_type": "code",
   "execution_count": null,
   "id": "7738ed89-2931-46b7-9bf6-d7869119975e",
   "metadata": {},
   "outputs": [],
   "source": []
  }
 ],
 "metadata": {
  "kernelspec": {
   "display_name": "Python 3 (ipykernel)",
   "language": "python",
   "name": "python3"
  },
  "language_info": {
   "codemirror_mode": {
    "name": "ipython",
    "version": 3
   },
   "file_extension": ".py",
   "mimetype": "text/x-python",
   "name": "python",
   "nbconvert_exporter": "python",
   "pygments_lexer": "ipython3",
   "version": "3.9.16"
  }
 },
 "nbformat": 4,
 "nbformat_minor": 5
}
