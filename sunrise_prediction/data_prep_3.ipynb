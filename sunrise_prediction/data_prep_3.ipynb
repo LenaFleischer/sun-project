{
 "cells": [
  {
   "attachments": {},
   "cell_type": "markdown",
   "id": "18cdb0ba-d7c3-41b7-824c-03bf74df8be7",
   "metadata": {
    "tags": []
   },
   "source": [
    "## Prepping data for learning\n",
    "### Method: based on the sunrise hour, is the sunrise beautiful?\n",
    "            based on the sunset hour, is the sunset beautiful?\n",
    "\n",
    "inputs: (all for the same location over same time frame)\n",
    "- weather csv \n",
    "- sunrise dates csv\n",
    "- sunset dates csv\n",
    "\n",
    "output: \n",
    "- data3 / prepped_sunrise / location.csv\n",
    "- data3 / prepped_sunset / location.csv"
   ]
  },
  {
   "cell_type": "markdown",
   "id": "b90dcc5c-1221-4d4f-8b2c-c4f205d8f276",
   "metadata": {},
   "source": [
    " what we need: \n",
    " - iterate through the data, only keep rows whose time is within sunset time\n",
    " - same with sunrise time \n",
    "    \n",
    "code: \n",
    "\n",
    "    for day in data: \n",
    "        find sunrise time for the day (should be the sunrise column) \n",
    "        turn that time into minutes, store as sunrise time\n",
    "            \n",
    "            for hour in day: \n",
    "                find the weather vector time \n",
    "                turn that time into minutes\n",
    "                \n",
    "                if sunrise time - 60 < vector time < sunrise time + 60 :\n",
    "                    put row in sunrise data frame\n"
   ]
  },
  {
   "cell_type": "code",
   "execution_count": 11,
   "id": "73b6a894-7553-4711-92e5-2efb09e1c6fe",
   "metadata": {
    "tags": []
   },
   "outputs": [],
   "source": [
    "import numpy as np\n",
    "import matplotlib.pyplot as plt\n",
    "import pandas as pd\n",
    "import os"
   ]
  },
  {
   "cell_type": "markdown",
   "id": "cfa848aa-43d9-4ef1-9453-541bc6c4c5c4",
   "metadata": {},
   "source": [
    "### Sunrise/Sunset Date Dictionary\n",
    "Read in the dates csv to make a dictionary of all dates with sunrise photos\n",
    "\n",
    "dictionary structure: \n",
    "- key is date\n",
    "- value is a tuple of booleans (sunrise = 0, sunset = 0)\n",
    "- 0 for no photos exist, 1 for photo exists"
   ]
  },
  {
   "cell_type": "code",
   "execution_count": 12,
   "id": "80402311-401c-41a6-befe-52d5623b689c",
   "metadata": {
    "tags": []
   },
   "outputs": [],
   "source": [
    "sunrise_path = os.path.join(os.getcwd(),\"data2011-2017\", \"denver_sunrise.csv\")\n",
    "sunset_path = os.path.join(os.getcwd(),\"data2011-2017\", \"denver_sunset.csv\")\n",
    "weather_path = os.path.join(os.getcwd(),\"data2011-2017\", \"weather_data.csv\")\n",
    "# CHANGE OUTPUT PATH LATER\n",
    "output_path = 'prepped_data_2.csv'"
   ]
  },
  {
   "cell_type": "code",
   "execution_count": null,
   "id": "76477c87",
   "metadata": {},
   "outputs": [],
   "source": [
    "## CLEAN TIMES"
   ]
  },
  {
   "cell_type": "code",
   "execution_count": null,
   "id": "77b7e346-fb01-4fdd-a3eb-52152aa9d580",
   "metadata": {
    "tags": []
   },
   "outputs": [],
   "source": [
    "# get a dictionary of the sunrise and sunset times\n",
    "# this will be used to verify whether the photo datetime is accurate or not.\n",
    "# any date whose time is not within an hour of sunrise or sunset will be taken out of the dataset\n",
    "times = pd.read_csv(weather_path, usecols = ['Sunrise', 'Sunset'] )\n",
    "sunrise_times = {}\n",
    "for datetime in times['Sunrise']: \n",
    "    date = datetime[:10]\n",
    "    hour = int(datetime[11:13])\n",
    "    minute = int(datetime[14:16])\n",
    "    time = hour * 60 + minute\n",
    "    sunrise_times[date] = time \n",
    "    \n",
    "sunset_times = {}\n",
    "for datetime in times['Sunset']: \n",
    "    date = datetime[:10]\n",
    "    hour = int(datetime[11:13])\n",
    "    minute = int(datetime[14:16])\n",
    "    time = hour * 60 + minute\n",
    "    sunset_times[date] = time \n"
   ]
  },
  {
   "cell_type": "code",
   "execution_count": null,
   "id": "1e48f99e",
   "metadata": {},
   "outputs": [],
   "source": [
    "## GET DATE DICTIONARY"
   ]
  },
  {
   "cell_type": "code",
   "execution_count": 14,
   "id": "2c6e54e3-23e8-43a9-8159-6a0f7acb358b",
   "metadata": {
    "tags": []
   },
   "outputs": [],
   "source": [
    "# create a dictionary of all dates with photos\n",
    "dates = {}\n",
    "\n",
    "# sunrise\n",
    "df = pd.read_csv(sunrise_path)\n",
    "\n",
    "for column in df: \n",
    "    columnSeriesObj = df[column]\n",
    "    for item in columnSeriesObj.values:\n",
    "        date = item[:10]\n",
    "        hour = int(item[11:13])\n",
    "        minute = int(item[14:16])\n",
    "        photo_time = hour * 60 + minute\n",
    "    \n",
    "        real_time = sunrise_times.get(date)\n",
    "        # check alleged time's proximity to the real sunrise time to make sure that this is a valid date\n",
    "        # if real time -60 < photo time < real time + 60\n",
    "        if real_time - 60 < photo_time < real_time + 60:  \n",
    "            dates[date] = (1,0)\n",
    "\n",
    "# sunset\n",
    "df = pd.read_csv(sunset_path)\n",
    "\n",
    "# if it is already in dictionary,\n",
    "# keep sunrise value in the tuple, make the sunset value a 1\n",
    "# if not in the dictionary,\n",
    "# add to the dictionary with 0 for sunrise value\n",
    "for column in df: \n",
    "    columnSeriesObj = df[column]\n",
    "    for item in columnSeriesObj.values:\n",
    "        date = item[:10]\n",
    "        hour = int(item[11:13])\n",
    "        minute = int(item[14:16])\n",
    "        photo_time = hour * 60 + minute\n",
    "        real_time = sunset_times.get(date)\n",
    "        # if valid:\n",
    "        if real_time - 60 < photo_time < real_time + 60: \n",
    "            if date in dates: \n",
    "                dates[date] = (dates[date][0], 1) \n",
    "\n",
    "            else:\n",
    "                dates[date] = (0,1)\n",
    "    \n"
   ]
  },
  {
   "cell_type": "markdown",
   "id": "d57e5575-eafd-46d4-bf09-4d0c166a0257",
   "metadata": {},
   "source": [
    "### Clean the weather data\n",
    "- read in the csv with full weather data as a pandas dataframe\n"
   ]
  },
  {
   "cell_type": "code",
   "execution_count": null,
   "id": "7785a9ce-97e4-4175-993d-58f1527d4cee",
   "metadata": {
    "tags": []
   },
   "outputs": [],
   "source": [
    "# output = pd.read_csv(weather_path)\n",
    "# # find out what conditions exist\n",
    "# conditions = {}\n",
    "# for row in output['Conditions']:\n",
    "#     for item in row.split(', '):\n",
    "#         if item not in conditions: \n",
    "#             conditions[item] = 0\n",
    "#         else: \n",
    "#             conditions[item] += 1\n",
    "            \n",
    "# # see dataprep1.ipynb for weather type processing\n",
    "\n",
    "# # make a new column in this order for every condition\n",
    "# for condition in list(conditions):\n",
    "#     output.at[:,\"Condition: \" + condition] = 0.0"
   ]
  },
  {
   "cell_type": "code",
   "execution_count": 18,
   "id": "b0401c50-f341-49fb-9ce5-f9adb15abc04",
   "metadata": {
    "tags": []
   },
   "outputs": [],
   "source": [
    "output = pd.read_csv(weather_path)\n",
    "\n",
    "# rename sunrise and sunset date time columns \n",
    "output.rename(columns = {'Sunrise':'Sunrise Time', 'Sunset':'Sunset Time'}, inplace = True)\n",
    "\n",
    "# change conditions into one conditions vector with 0s and 1s --> Condition: <condition>\n",
    "for i, row in enumerate(output['Conditions']):\n",
    "    for condition in row.split(', '):\n",
    "        output.at[i,\"Condition: \" + condition] = 1\n",
    "\n",
    "# add sunrise and sunset labels based on the dates dictionary\n",
    "for i, row in enumerate(output['Date time']):\n",
    "    date = row[:10]\n",
    "    # get date data\n",
    "    output.at[i, \"Month\"] = int(row[5:7])\n",
    "    output.at[i, \"Hour\"] = int(row[-8:-6])\n",
    "    # check the dates dictionary \n",
    "    # if the first value in tuple is 1, label yes sunrise, if second, label yes sunset\n",
    "    if date in dates: \n",
    "        if dates.get(date)[0]:\n",
    "            output.at[i,'Sunrise']= 1.0\n",
    "            \n",
    "        if dates.get(date)[1]:\n",
    "            output.at[i,'Sunset']= 1.0\n",
    "    "
   ]
  },
  {
   "attachments": {},
   "cell_type": "markdown",
   "id": "dd243a47",
   "metadata": {},
   "source": [
    "# START WORK HERE!!!! \n",
    "make a new dataframe for the sunrise hours \n",
    "    - take only rows whose time aligns with sunrise time \n",
    "    - change the sunrise label column to be LAST ? maybe. \n",
    "and a new dataframe for the sunset hours\n"
   ]
  },
  {
   "cell_type": "code",
   "execution_count": null,
   "id": "7246870a",
   "metadata": {},
   "outputs": [],
   "source": [
    "\n",
    "# change to sunrise times\n",
    "# FOR THIS VERSION, ONLY KEEP SUNRISE TIME vectors (store in sunrise output) \n",
    "# https://note.nkmk.me/en/python-pandas-str-slice/\n",
    "hour = output['Sunrise Time'].str[11:13]\n",
    "to_drop = []\n",
    "for i, time in enumerate(output['Sunrise Time']):\n",
    "    \n",
    "    sunrise_hour = int(time[11:13])\n",
    "    # NOTE! RIGHT NOW, just dropping the bad hours, but in the future will make a new df \n",
    "    if sunrise_hour != output['Hour'].get(i):\n",
    "        to_drop.append(i)\n",
    "        # keep the vector in the sunrise dataframe\n",
    "        # print(sunrise_hour, output['Hour'].get(i))\n",
    "\n"
   ]
  },
  {
   "cell_type": "code",
   "execution_count": null,
   "id": "5306a616",
   "metadata": {},
   "outputs": [],
   "source": [
    "output = output.drop(to_drop) # drop all non sunrise hours\n",
    "        \n",
    "# populate NaNs with 0.0s\n",
    "output = output.fillna(0)\n",
    "\n",
    "# delete any column with strings or unecessary info\n",
    "output = output.drop(['Moon Phase', 'Heat Index', 'Minimum Temperature', 'Precipitation Cover', 'Maximum Temperature', 'Latitude', 'Longitude', 'Date time', 'Info', 'Address', 'Conditions', 'Weather Type', 'Sunrise Time', 'Sunset Time', 'Resolved Address', 'Name'], axis=1)\n",
    "\n",
    "# index = False makes it ignore the first column\n",
    "output.to_csv(output_path, index=False) "
   ]
  }
 ],
 "metadata": {
  "kernelspec": {
   "display_name": "Python 3 (ipykernel)",
   "language": "python",
   "name": "python3"
  },
  "language_info": {
   "codemirror_mode": {
    "name": "ipython",
    "version": 3
   },
   "file_extension": ".py",
   "mimetype": "text/x-python",
   "name": "python",
   "nbconvert_exporter": "python",
   "pygments_lexer": "ipython3",
   "version": "3.9.16"
  }
 },
 "nbformat": 4,
 "nbformat_minor": 5
}
